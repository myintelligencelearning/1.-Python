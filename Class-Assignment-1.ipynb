{
 "cells": [
  {
   "cell_type": "code",
   "execution_count": 32,
   "id": "df431d23-790d-4ff1-9190-4227b96420c8",
   "metadata": {},
   "outputs": [],
   "source": [
    "class SubfieldsInAI():\n",
    "    def Subfields():\n",
    "        itemlist=[\"Machine Learning\",\"Neural Networks\",\"Vision\",\"Robotics\",\"Speech Processing\",\"Natural Language Processing\"]\n",
    "        print(\"Sub-fields in AI are:\")\n",
    "        for i in itemlist:\n",
    "            print(i)      \n",
    "        "
   ]
  },
  {
   "cell_type": "code",
   "execution_count": 34,
   "id": "bb005e91-e2ce-40b5-8296-6a9252328479",
   "metadata": {},
   "outputs": [
    {
     "name": "stdout",
     "output_type": "stream",
     "text": [
      "Sub-fields in AI are:\n",
      "Machine Learning\n",
      "Neural Networks\n",
      "Vision\n",
      "Robotics\n",
      "Speech Processing\n",
      "Natural Language Processing\n"
     ]
    }
   ],
   "source": [
    "SubfieldsInAI.Subfields() \n"
   ]
  },
  {
   "cell_type": "code",
   "execution_count": 40,
   "id": "48261292-8c0b-49a7-bd47-85944bf750e0",
   "metadata": {},
   "outputs": [
    {
     "name": "stdin",
     "output_type": "stream",
     "text": [
      "Enter the number 3\n"
     ]
    }
   ],
   "source": [
    "class OddEven():\n",
    "    num=int(input(\"Enter the number\"))\n",
    "    def OddorEven():\n",
    "        num=int(input(\"Enter the number\"))\n",
    "        if (num%2==1):\n",
    "            print(num,\"is a odd number\")\n",
    "            oddeven=\"Odd Number\"      \n",
    "        else:\n",
    "            print(num,\"is a Even number\")\n",
    "            oddeven=\"Even Number\"\n",
    "            return oddeven"
   ]
  },
  {
   "cell_type": "code",
   "execution_count": 42,
   "id": "fc7d8032-46ed-4d7b-b247-fb9ca145699f",
   "metadata": {},
   "outputs": [
    {
     "name": "stdin",
     "output_type": "stream",
     "text": [
      "Enter the number 2\n"
     ]
    },
    {
     "name": "stdout",
     "output_type": "stream",
     "text": [
      "2 is a Even number\n"
     ]
    },
    {
     "data": {
      "text/plain": [
       "'Even Number'"
      ]
     },
     "execution_count": 42,
     "metadata": {},
     "output_type": "execute_result"
    }
   ],
   "source": [
    "OddEven.OddorEven()"
   ]
  },
  {
   "cell_type": "code",
   "execution_count": 44,
   "id": "338b920a-689f-44c7-b8c8-9d9cb4224002",
   "metadata": {},
   "outputs": [],
   "source": [
    "class EligiblityForMarriage():\n",
    "    def Eligible():\n",
    "        gender=(input(\"Enter your Gender\"))\n",
    "        age=int(input(\"Enter the age\"))\n",
    "        if age>=21 and gender==\"Male\":\n",
    "            print(\" Your Gender is:\",gender)\n",
    "            print(\"your Age is:\",age)\n",
    "            print(\"ELIGIBLE\")\n",
    "            YesNo=\"ELIGIBLE\"      \n",
    "        elif age<=18 and gender==\"Female\" :\n",
    "            print(\" Your Gender is:\",gender)\n",
    "            print(\"your Age is:\",age)\n",
    "            print(\"ELIGIBLE\")\n",
    "            YesNo =\"ELIGIBLE\"\n",
    "        else:\n",
    "            YesNo =\"NOT ELIGIBLE\"\n",
    "            return YesNo"
   ]
  },
  {
   "cell_type": "code",
   "execution_count": 46,
   "id": "a37ac190-de45-404a-ab76-ec143b7fa695",
   "metadata": {},
   "outputs": [
    {
     "name": "stdin",
     "output_type": "stream",
     "text": [
      "Enter your Gender Male\n",
      "Enter the age 19\n"
     ]
    },
    {
     "data": {
      "text/plain": [
       "'NOT ELIGIBLE'"
      ]
     },
     "execution_count": 46,
     "metadata": {},
     "output_type": "execute_result"
    }
   ],
   "source": [
    "EligiblityForMarriage.Eligible()"
   ]
  },
  {
   "cell_type": "code",
   "execution_count": 48,
   "id": "23d1dabe-f73f-4a5e-bfee-d5a09e639085",
   "metadata": {},
   "outputs": [],
   "source": [
    "class FindPercent():\n",
    "    def percentage(s1,s2,s3,s4,s5):\n",
    "        print(\"Subject 1=\",s1)\n",
    "        print(\"Subject 2=\",s2)\n",
    "        print(\"Subject 3=\",s3)\n",
    "        print(\"Subject 4=\",s4)\n",
    "        print(\"Subject 5=\",s5)\n",
    "        tot=s1+s2+s3+s4+s5\n",
    "        print(\"Total=\",tot)\n",
    "        print(\"Percentage=\",tot/5)\n"
   ]
  },
  {
   "cell_type": "code",
   "execution_count": 50,
   "id": "3d23c299-bc25-478f-8a48-be1531cdf0e0",
   "metadata": {},
   "outputs": [
    {
     "name": "stdout",
     "output_type": "stream",
     "text": [
      "Subject 1= 1\n",
      "Subject 2= 2\n",
      "Subject 3= 3\n",
      "Subject 4= 4\n",
      "Subject 5= 5\n",
      "Total= 15\n",
      "Percentage= 3.0\n"
     ]
    }
   ],
   "source": [
    "FindPercent.percentage(1,2,3,4,5)\n"
   ]
  },
  {
   "cell_type": "code",
   "execution_count": 52,
   "id": "7cf3cd32-5176-4fd8-8c37-ae5e407b9b10",
   "metadata": {},
   "outputs": [],
   "source": [
    "class triangle():\n",
    "    def triangle(th,tb,ph1,ph2,pb):\n",
    "        areaoftriangle=(th*tb)/2\n",
    "        print(\"Height:\", th)\n",
    "        print(\"Breadth:\", tb)\n",
    "        print(\"Area formula: (Height * Breadth) / 2\")\n",
    "        print(\"Area of Triangle:\", areaoftriangle)\n",
    "        perimeter = ph1 + ph2 + pb\n",
    "        print(\"Height1:\", ph1)\n",
    "        print(\"Height2:\", ph2)\n",
    "        print(\"Breadth:\", pb)\n",
    "        print(\"Perimeter formula: Height1 + Height2 + Breadth\")\n",
    "        print(\"Perimeter of Triangle:\", perimeter)"
   ]
  },
  {
   "cell_type": "code",
   "execution_count": 54,
   "id": "5a0f93c9-2132-4a1f-9f1f-afa7b17fc1d3",
   "metadata": {},
   "outputs": [
    {
     "name": "stdout",
     "output_type": "stream",
     "text": [
      "Height: 20\n",
      "Breadth: 30\n",
      "Area formula: (Height * Breadth) / 2\n",
      "Area of Triangle: 300.0\n",
      "Height1: 22\n",
      "Height2: 30\n",
      "Breadth: 40\n",
      "Perimeter formula: Height1 + Height2 + Breadth\n",
      "Perimeter of Triangle: 92\n"
     ]
    }
   ],
   "source": [
    "triangle.triangle(20,30,22,30,40)"
   ]
  },
  {
   "cell_type": "code",
   "execution_count": null,
   "id": "d224baf9-9bb3-46f0-be9a-ef7e8f41d39a",
   "metadata": {},
   "outputs": [],
   "source": []
  }
 ],
 "metadata": {
  "kernelspec": {
   "display_name": "Python [conda env:base] *",
   "language": "python",
   "name": "conda-base-py"
  },
  "language_info": {
   "codemirror_mode": {
    "name": "ipython",
    "version": 3
   },
   "file_extension": ".py",
   "mimetype": "text/x-python",
   "name": "python",
   "nbconvert_exporter": "python",
   "pygments_lexer": "ipython3",
   "version": "3.12.7"
  }
 },
 "nbformat": 4,
 "nbformat_minor": 5
}
