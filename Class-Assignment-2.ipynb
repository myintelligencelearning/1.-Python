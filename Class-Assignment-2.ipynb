{
 "cells": [
  {
   "cell_type": "code",
   "execution_count": 3,
   "id": "b9413d3c-2cd4-4897-9f39-47c93bbf64ef",
   "metadata": {},
   "outputs": [],
   "source": [
    "from multiclass import packages\n",
    "\n"
   ]
  },
  {
   "cell_type": "code",
   "execution_count": 23,
   "id": "bf6507e9-4af1-4c4e-a91b-5ca30a00298f",
   "metadata": {},
   "outputs": [
    {
     "name": "stdin",
     "output_type": "stream",
     "text": [
      "Enter the number 21\n"
     ]
    },
    {
     "name": "stdout",
     "output_type": "stream",
     "text": [
      "21 is a odd number\n"
     ]
    }
   ],
   "source": [
    "packages.OddorEven()"
   ]
  },
  {
   "cell_type": "code",
   "execution_count": 25,
   "id": "b2757017-fd4e-44b5-881b-492027486661",
   "metadata": {},
   "outputs": [
    {
     "name": "stdout",
     "output_type": "stream",
     "text": [
      "Sub-fields in AI are:\n",
      "Machine Learning\n",
      "Neural Networks\n",
      "Vision\n",
      "Robotics\n",
      "Speech Processing\n",
      "Natural Language Processing\n"
     ]
    }
   ],
   "source": [
    "packages.Subfields()"
   ]
  },
  {
   "cell_type": "code",
   "execution_count": 5,
   "id": "5227cd8e-0fea-46f3-a26d-4a92725cb175",
   "metadata": {},
   "outputs": [
    {
     "name": "stdin",
     "output_type": "stream",
     "text": [
      "Enter your Gender Male\n",
      "Enter the age 21\n"
     ]
    },
    {
     "name": "stdout",
     "output_type": "stream",
     "text": [
      " Your Gender is: Male\n",
      "your Age is: 21\n",
      "ELIGIBLE\n"
     ]
    }
   ],
   "source": [
    "packages.Eligible()"
   ]
  },
  {
   "cell_type": "code",
   "execution_count": 7,
   "id": "145e933c-29bf-4c69-8501-865103814bab",
   "metadata": {},
   "outputs": [
    {
     "name": "stdout",
     "output_type": "stream",
     "text": [
      "Subject 1= 1\n",
      "Subject 2= 2\n",
      "Subject 3= 3\n",
      "Subject 4= 4\n",
      "Subject 5= 5\n",
      "Total= 15\n",
      "Percentage= 3.0\n"
     ]
    }
   ],
   "source": [
    "packages.percentage(1,2,3,4,5)"
   ]
  },
  {
   "cell_type": "code",
   "execution_count": 9,
   "id": "70f0a6fb-3b52-48fd-8eb2-abd13928b9cf",
   "metadata": {},
   "outputs": [
    {
     "name": "stdout",
     "output_type": "stream",
     "text": [
      "Height: 20\n",
      "Breadth: 30\n",
      "Area formula: (Height * Breadth) / 2\n",
      "Area of Triangle: 300.0\n",
      "Height1: 22\n",
      "Height2: 30\n",
      "Breadth: 40\n",
      "Perimeter formula: Height1 + Height2 + Breadth\n",
      "Perimeter of Triangle: 92\n"
     ]
    }
   ],
   "source": [
    "packages.triangle(20,30,22,30,40)"
   ]
  },
  {
   "cell_type": "code",
   "execution_count": null,
   "id": "959ade77-1c88-4771-a1cd-f0453ba610f0",
   "metadata": {},
   "outputs": [],
   "source": []
  }
 ],
 "metadata": {
  "kernelspec": {
   "display_name": "Python [conda env:base] *",
   "language": "python",
   "name": "conda-base-py"
  },
  "language_info": {
   "codemirror_mode": {
    "name": "ipython",
    "version": 3
   },
   "file_extension": ".py",
   "mimetype": "text/x-python",
   "name": "python",
   "nbconvert_exporter": "python",
   "pygments_lexer": "ipython3",
   "version": "3.12.7"
  }
 },
 "nbformat": 4,
 "nbformat_minor": 5
}
