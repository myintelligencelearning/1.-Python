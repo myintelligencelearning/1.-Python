{
 "cells": [
  {
   "cell_type": "code",
   "execution_count": 62,
   "id": "0e1d34a2-cd27-4ed0-b2e4-5acb428ff1a8",
   "metadata": {},
   "outputs": [
    {
     "name": "stdin",
     "output_type": "stream",
     "text": [
      "Enter the i value 10\n"
     ]
    },
    {
     "name": "stdout",
     "output_type": "stream",
     "text": [
      "CORRECT\n"
     ]
    }
   ],
   "source": [
    " # print 'CORRECT' if i == 10 \n",
    "i=int(input(\"Enter the i value\"))\n",
    "if i == 10:\n",
    "    print(\"CORRECT\")\n",
    "else:\n",
    "    print(\"NOT CORRECT\")\n"
   ]
  },
  {
   "cell_type": "code",
   "execution_count": 14,
   "id": "31f564d0-23f0-4958-82fc-0ffd1d47a6c9",
   "metadata": {},
   "outputs": [
    {
     "name": "stdin",
     "output_type": "stream",
     "text": [
      "Enter the password HOPE@123\n"
     ]
    },
    {
     "name": "stdout",
     "output_type": "stream",
     "text": [
      "Your password is correct\n"
     ]
    }
   ],
   "source": [
    "# Check the password, using if and else \n",
    "pwd=(input(\"Enter the password\"))\n",
    "if pwd==\"HOPE@123\":\n",
    "    print(\"Your password is correct\")\n",
    "else:\n",
    "    print(\"Please enter the correct password\")\n"
   ]
  },
  {
   "cell_type": "code",
   "execution_count": 60,
   "id": "1572cac6-aa42-41fc-87d7-84ed768ead39",
   "metadata": {},
   "outputs": [
    {
     "name": "stdin",
     "output_type": "stream",
     "text": [
      "Enter the age 20\n"
     ]
    },
    {
     "name": "stdout",
     "output_type": "stream",
     "text": [
      "Adult\n"
     ]
    }
   ],
   "source": [
    "# Catagory the people by their age like children, adult, citizen, senior citizen...\n",
    "age=int(input(\"Enter the age\"))\n",
    "if(age<20):\n",
    "    print(\"children\")\n",
    "elif(age<=40):\n",
    "    print(\"Adult\")\n",
    "elif(age<=60):\n",
    "    print(\"citizen\")\n",
    "else:\n",
    "    print(\"senior citizen\")"
   ]
  },
  {
   "cell_type": "code",
   "execution_count": 68,
   "id": "b9fa4c96-e208-4446-9045-a7f714ef6bf6",
   "metadata": {},
   "outputs": [
    {
     "name": "stdin",
     "output_type": "stream",
     "text": [
      "Enter the number -2\n"
     ]
    },
    {
     "name": "stdout",
     "output_type": "stream",
     "text": [
      "Negative\n"
     ]
    }
   ],
   "source": [
    " # Find whether given number is positive or negative\n",
    "num=int(input(\"Enter the number\"))\n",
    "if(num<0):\n",
    "    print(\"Negative\")\n",
    "else:\n",
    "    print(\"Postive\")\n"
   ]
  },
  {
   "cell_type": "code",
   "execution_count": 72,
   "id": "9a25f127-236b-49bf-b344-4cf56b52461c",
   "metadata": {},
   "outputs": [
    {
     "name": "stdin",
     "output_type": "stream",
     "text": [
      "Enter the number 22\n"
     ]
    },
    {
     "name": "stdout",
     "output_type": "stream",
     "text": [
      "22 is not divisble by 5\n"
     ]
    }
   ],
   "source": [
    " # Check whether the given number is divisible by 5 \n",
    "num=int(input(\"Enter the number\"))\n",
    "if(num%5==0):\n",
    "    print(num,\"is divisble by 5\")\n",
    "else:\n",
    "    print(num,\"is not divisble by 5\")"
   ]
  },
  {
   "cell_type": "code",
   "execution_count": null,
   "id": "1c8ee8ef-e71f-4fc8-bc69-1ed7ceab2c42",
   "metadata": {},
   "outputs": [],
   "source": []
  }
 ],
 "metadata": {
  "kernelspec": {
   "display_name": "Python [conda env:base] *",
   "language": "python",
   "name": "conda-base-py"
  },
  "language_info": {
   "codemirror_mode": {
    "name": "ipython",
    "version": 3
   },
   "file_extension": ".py",
   "mimetype": "text/x-python",
   "name": "python",
   "nbconvert_exporter": "python",
   "pygments_lexer": "ipython3",
   "version": "3.12.7"
  }
 },
 "nbformat": 4,
 "nbformat_minor": 5
}
