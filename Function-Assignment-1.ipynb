{
 "cells": [
  {
   "cell_type": "code",
   "execution_count": 32,
   "id": "16d3991a-369a-4b6b-971e-5a301eb1fae2",
   "metadata": {},
   "outputs": [],
   "source": [
    "def OddorEven():\n",
    "    if (num%2==1):\n",
    "        print(num,\"is a odd number\")\n",
    "        oddeven=\"Odd Number\"      \n",
    "    else:\n",
    "        print(num,\"is a Even number\")\n",
    "        oddeven=\"Even Number\"\n",
    "        return oddeven\n"
   ]
  },
  {
   "cell_type": "code",
   "execution_count": 34,
   "id": "5c2eed55-71f9-4e80-817a-da7503ee0ac4",
   "metadata": {},
   "outputs": [
    {
     "name": "stdin",
     "output_type": "stream",
     "text": [
      "Enter the number 5\n"
     ]
    },
    {
     "name": "stdout",
     "output_type": "stream",
     "text": [
      "5 is a odd number\n"
     ]
    }
   ],
   "source": [
    "num=int(input(\"Enter the number\"))\n",
    "value=OddorEven()\n",
    "\n",
    "\n"
   ]
  },
  {
   "cell_type": "code",
   "execution_count": 36,
   "id": "4463642d-6388-449e-a7f6-643142d1ee07",
   "metadata": {},
   "outputs": [
    {
     "name": "stdout",
     "output_type": "stream",
     "text": [
      "None\n"
     ]
    }
   ],
   "source": [
    "print(value)"
   ]
  },
  {
   "cell_type": "code",
   "execution_count": 66,
   "id": "aebb5e6d-723c-422a-8187-b86d03426917",
   "metadata": {},
   "outputs": [],
   "source": [
    "def Eligible():\n",
    "    if age>=21 and gender==\"Male\":\n",
    "        print(\" Your Gender is:\",gender)\n",
    "        print(\"your Age is:\",age)\n",
    "        print(\"ELIGIBLE\")\n",
    "        YesNo=\"ELIGIBLE\"      \n",
    "    elif age<=18 and gender==\"Female\" :\n",
    "        print(\" Your Gender is:\",gender)\n",
    "        print(\"your Age is:\",age)\n",
    "        print(\"ELIGIBLE\")\n",
    "        YesNo =\"ELIGIBLE\"\n",
    "    else:\n",
    "        YesNo =\"NOT ELIGIBLE\"\n",
    "        return YesNo"
   ]
  },
  {
   "cell_type": "code",
   "execution_count": 91,
   "id": "f27e7dbc-afb8-44f2-8344-51a4bd4073ec",
   "metadata": {},
   "outputs": [
    {
     "name": "stdin",
     "output_type": "stream",
     "text": [
      "Enter your Gender Female\n",
      "Enter the age 18\n"
     ]
    },
    {
     "name": "stdout",
     "output_type": "stream",
     "text": [
      " Your Gender is: Female\n",
      "your Age is: 18\n",
      "ELIGIBLE\n"
     ]
    }
   ],
   "source": [
    "gender=(input(\"Enter your Gender\"))\n",
    "age=int(input(\"Enter the age\"))\n",
    "Eligible()"
   ]
  },
  {
   "cell_type": "code",
   "execution_count": 137,
   "id": "2e7c7d6b-a79e-4b6c-bd65-76da3e89634b",
   "metadata": {},
   "outputs": [],
   "source": [
    "\n",
    "def percentage(s1,s2,s3,s4,s5):\n",
    "    print(\"Subject 1=\",s1)\n",
    "    print(\"Subject 2=\",s2)\n",
    "    print(\"Subject 3=\",s3)\n",
    "    print(\"Subject 4=\",s4)\n",
    "    print(\"Subject 5=\",s5)\n",
    "    tot=s1+s2+s3+s4+s5\n",
    "    print(\"Total=\",tot)\n",
    "    print(\"Percentage=\",tot/5)\n",
    "\n",
    "    \n"
   ]
  },
  {
   "cell_type": "code",
   "execution_count": 139,
   "id": "bec9ebe6-a8cf-49f9-b81e-290ab7fd6240",
   "metadata": {},
   "outputs": [
    {
     "name": "stdout",
     "output_type": "stream",
     "text": [
      "Subject 1= 22\n",
      "Subject 2= 33\n",
      "Subject 3= 44\n",
      "Subject 4= 55\n",
      "Subject 5= 66\n",
      "Total is= 220\n",
      "Percentage is= 44.0\n"
     ]
    }
   ],
   "source": [
    "percentage(22,33,44,55,66)\n"
   ]
  },
  {
   "cell_type": "code",
   "execution_count": 145,
   "id": "03261bad-a02f-49d9-acf5-9c2e71d42225",
   "metadata": {},
   "outputs": [],
   "source": [
    "def triangle(th,tb,ph1,ph2,pb):\n",
    "    areaoftriangle=(th*tb)/2\n",
    "    print(\"Height:\", th)\n",
    "    print(\"Breadth:\", tb)\n",
    "    print(\"Area formula: (Height * Breadth) / 2\")\n",
    "    print(\"Area of Triangle:\", areaoftriangle)\n",
    "    perimeter = ph1 + ph2 + pb\n",
    "    print(\"Height1:\", ph1)\n",
    "    print(\"Height2:\", ph2)\n",
    "    print(\"Breadth:\", pb)\n",
    "    print(\"Perimeter formula: Height1 + Height2 + Breadth\")\n",
    "    print(\"Perimeter of Triangle:\", perimeter)"
   ]
  },
  {
   "cell_type": "code",
   "execution_count": 147,
   "id": "ee820788-78d3-4808-8315-0e7500b7118e",
   "metadata": {},
   "outputs": [
    {
     "name": "stdout",
     "output_type": "stream",
     "text": [
      "Height: 32\n",
      "Breadth: 34\n",
      "Area formula: (Height * Breadth) / 2\n",
      "Area of Triangle: 544.0\n",
      "Height1: 2\n",
      "Height2: 4\n",
      "Breadth: 4\n",
      "Perimeter formula: Height1 + Height2 + Breadth\n",
      "Perimeter of Triangle: 10\n"
     ]
    }
   ],
   "source": [
    "triangle(32,34,2,4,4)"
   ]
  },
  {
   "cell_type": "code",
   "execution_count": 16,
   "id": "29354b83-c41c-4577-a12a-000df6ef9e5c",
   "metadata": {},
   "outputs": [],
   "source": [
    "itemlist=[\"Machine Learning\",\"Neural Networks\",\"Vision\",\"Robotics\",\"Speech Processing\",\"Natural Language Processing\"]\n",
    "def Subfields():\n",
    "    print(\"Sub-fields in AI are:\")\n",
    "    for i in itemlist:\n",
    "        print(i)\n",
    "        \n"
   ]
  },
  {
   "cell_type": "code",
   "execution_count": 18,
   "id": "16b9ac17-95ec-425b-8e8f-7650d0c4a34a",
   "metadata": {},
   "outputs": [
    {
     "name": "stdout",
     "output_type": "stream",
     "text": [
      "Sub-fields in AI are:\n",
      "Machine Learning\n",
      "Neural Networks\n",
      "Vision\n",
      "Robotics\n",
      "Speech Processing\n",
      "Natural Language Processing\n"
     ]
    }
   ],
   "source": [
    "Subfields()"
   ]
  },
  {
   "cell_type": "code",
   "execution_count": null,
   "id": "f053de2b-bcc6-4941-9fdb-6e48e699d446",
   "metadata": {},
   "outputs": [],
   "source": []
  }
 ],
 "metadata": {
  "kernelspec": {
   "display_name": "Python [conda env:base] *",
   "language": "python",
   "name": "conda-base-py"
  },
  "language_info": {
   "codemirror_mode": {
    "name": "ipython",
    "version": 3
   },
   "file_extension": ".py",
   "mimetype": "text/x-python",
   "name": "python",
   "nbconvert_exporter": "python",
   "pygments_lexer": "ipython3",
   "version": "3.12.7"
  }
 },
 "nbformat": 4,
 "nbformat_minor": 5
}
