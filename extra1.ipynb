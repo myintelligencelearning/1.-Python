{
 "cells": [
  {
   "cell_type": "code",
   "execution_count": 2,
   "id": "a6337d33-1189-488b-b411-ece64af50913",
   "metadata": {},
   "outputs": [
    {
     "name": "stdout",
     "output_type": "stream",
     "text": [
      "HOPE AI\n"
     ]
    }
   ],
   "source": [
    "print(\"HOPE AI\")\n"
   ]
  },
  {
   "cell_type": "code",
   "execution_count": 6,
   "id": "566e07d2-4a6e-4834-acf0-efb088fa945c",
   "metadata": {},
   "outputs": [
    {
     "name": "stdin",
     "output_type": "stream",
     "text": [
      "Enter your institute name?:  HOPE AI \n"
     ]
    },
    {
     "name": "stdout",
     "output_type": "stream",
     "text": [
      " HOPE AI \n"
     ]
    }
   ],
   "source": [
    "name=input(\"Enter your institute name?:\")\n",
    "print(name)"
   ]
  },
  {
   "cell_type": "code",
   "execution_count": 14,
   "id": "4e08b00e-ff4f-4718-9435-1aa2b8d27033",
   "metadata": {},
   "outputs": [
    {
     "name": "stdin",
     "output_type": "stream",
     "text": [
      "Enter your name: Raj\n",
      "Enter your age: 15\n",
      "Enter your school name Guru school\n",
      "Enter your degree: B.E CSE\n"
     ]
    },
    {
     "name": "stdout",
     "output_type": "stream",
     "text": [
      "Raj\n",
      "15\n",
      "Guru school\n",
      "B.E CSE\n"
     ]
    }
   ],
   "source": [
    "name=input(\"Enter your name:\")\n",
    "age=int(input(\"Enter your age:\"))\n",
    "sname=input(\"Enter your school name\")\n",
    "degree=input(\"Enter your degree:\")\n",
    "print(name)\n",
    "print(age)\n",
    "print(sname)\n",
    "print(degree)\n"
   ]
  },
  {
   "cell_type": "code",
   "execution_count": 22,
   "id": "4df66831-2dd4-4c50-b332-d9917680c0d4",
   "metadata": {},
   "outputs": [
    {
     "name": "stdout",
     "output_type": "stream",
     "text": [
      "77\n"
     ]
    }
   ],
   "source": [
    "a= 43\n",
    "b= 34\n",
    "add=a+b\n",
    "print(add)"
   ]
  },
  {
   "cell_type": "code",
   "execution_count": 20,
   "id": "10f84f1f-5b03-4475-bf29-73945ae53668",
   "metadata": {},
   "outputs": [
    {
     "name": "stdout",
     "output_type": "stream",
     "text": [
      "9\n"
     ]
    }
   ],
   "source": [
    "a= 43\n",
    "b= 34\n",
    "sub=a-b\n",
    "print(sub)"
   ]
  },
  {
   "cell_type": "code",
   "execution_count": 24,
   "id": "0729ea3d-d2d5-4537-a2dd-a7536b634db8",
   "metadata": {},
   "outputs": [
    {
     "name": "stdout",
     "output_type": "stream",
     "text": [
      "6111\n"
     ]
    }
   ],
   "source": [
    "a= 63\n",
    "b= 97\n",
    "mul=a*b\n",
    "print(mul)"
   ]
  },
  {
   "cell_type": "code",
   "execution_count": 26,
   "id": "3e2aaaf6-c4e9-4c1d-a87e-5b519c012aa1",
   "metadata": {},
   "outputs": [
    {
     "name": "stdout",
     "output_type": "stream",
     "text": [
      "2.4516129032258065\n"
     ]
    }
   ],
   "source": [
    "a= 76 \n",
    "b= 31 \n",
    "floatdiv = a/b\n",
    "print(floatdiv)"
   ]
  },
  {
   "cell_type": "code",
   "execution_count": 30,
   "id": "59f5426c-b046-4ec7-a2a3-c6afbd8b2158",
   "metadata": {},
   "outputs": [
    {
     "name": "stdout",
     "output_type": "stream",
     "text": [
      "2\n"
     ]
    }
   ],
   "source": [
    "a= 76 \n",
    "b= 31 \n",
    "FloorDiv = a//b\n",
    "print(FloorDiv)"
   ]
  },
  {
   "cell_type": "code",
   "execution_count": 32,
   "id": "5897a54a-7d21-41ec-9ae4-a11814e5319f",
   "metadata": {},
   "outputs": [
    {
     "name": "stdout",
     "output_type": "stream",
     "text": [
      "14\n"
     ]
    }
   ],
   "source": [
    "a= 76 \n",
    "b= 31 \n",
    "Modulo = a%b\n",
    "print(Modulo)"
   ]
  },
  {
   "cell_type": "code",
   "execution_count": 34,
   "id": "2991b967-ef2f-4c55-b0dd-c96fdd84e1cc",
   "metadata": {},
   "outputs": [
    {
     "name": "stdout",
     "output_type": "stream",
     "text": [
      "256\n"
     ]
    }
   ],
   "source": [
    "a= 4 \n",
    "b= 4 \n",
    "Power = a**b\n",
    "print(Power)"
   ]
  },
  {
   "cell_type": "code",
   "execution_count": null,
   "id": "706d7af9-7595-4818-9cac-fbb9a961a678",
   "metadata": {},
   "outputs": [],
   "source": []
  }
 ],
 "metadata": {
  "kernelspec": {
   "display_name": "Python [conda env:base] *",
   "language": "python",
   "name": "conda-base-py"
  },
  "language_info": {
   "codemirror_mode": {
    "name": "ipython",
    "version": 3
   },
   "file_extension": ".py",
   "mimetype": "text/x-python",
   "name": "python",
   "nbconvert_exporter": "python",
   "pygments_lexer": "ipython3",
   "version": "3.12.7"
  }
 },
 "nbformat": 4,
 "nbformat_minor": 5
}
