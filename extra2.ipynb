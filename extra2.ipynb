{
 "cells": [
  {
   "cell_type": "code",
   "execution_count": 6,
   "id": "e31eafaf-5dea-44a0-9951-45dae1d28281",
   "metadata": {},
   "outputs": [
    {
     "name": "stdout",
     "output_type": "stream",
     "text": [
      "0\n",
      "1\n",
      "2\n",
      "3\n",
      "4\n",
      "5\n",
      "6\n",
      "7\n",
      "8\n",
      "9\n",
      "10\n",
      "11\n",
      "12\n",
      "13\n",
      "14\n",
      "15\n",
      "16\n",
      "17\n",
      "18\n",
      "19\n"
     ]
    }
   ],
   "source": [
    " # print 0 to 20 by using range\n",
    "for i in range(20):\n",
    "    print(i)"
   ]
  },
  {
   "cell_type": "code",
   "execution_count": 8,
   "id": "fb8dba06-2762-4dd0-9eec-4d4c9f3ed1f9",
   "metadata": {},
   "outputs": [
    {
     "name": "stdout",
     "output_type": "stream",
     "text": [
      "10\n",
      "11\n",
      "12\n",
      "13\n",
      "14\n",
      "15\n",
      "16\n",
      "17\n",
      "18\n",
      "19\n"
     ]
    }
   ],
   "source": [
    "# print range 10 to 20 \n",
    "for i in range(10,20):\n",
    "    print(i)"
   ]
  },
  {
   "cell_type": "code",
   "execution_count": 12,
   "id": "8f12eaf5-fa54-4285-963d-e5a6b030db5e",
   "metadata": {},
   "outputs": [
    {
     "name": "stdout",
     "output_type": "stream",
     "text": [
      "7\n"
     ]
    }
   ],
   "source": [
    " # Print number of items in the list by using 'len'\n",
    "listitem=[10, 20, 14, 55, 43, 87, 76]\n",
    "print(len(listitem))"
   ]
  },
  {
   "cell_type": "code",
   "execution_count": 35,
   "id": "3e719d29-1276-4a0b-a3dc-54c3f8ab4a47",
   "metadata": {},
   "outputs": [
    {
     "name": "stdout",
     "output_type": "stream",
     "text": [
      "A\n",
      "r\n",
      "t\n",
      "i\n",
      "f\n",
      "i\n",
      "c\n",
      "i\n",
      "a\n",
      "l\n",
      " \n",
      "I\n",
      "n\n",
      "t\n",
      "e\n",
      "l\n",
      "l\n",
      "i\n",
      "g\n",
      "e\n",
      "n\n",
      "c\n",
      "e\n"
     ]
    }
   ],
   "source": [
    " a=\"Artificial Intelligence\"\n",
    "for i in a:\n",
    "    print(i)"
   ]
  },
  {
   "cell_type": "code",
   "execution_count": 43,
   "id": "e1e658fa-14a5-45c1-9a03-daa84f1d9807",
   "metadata": {},
   "outputs": [
    {
     "name": "stdout",
     "output_type": "stream",
     "text": [
      "-Your Name-\n",
      "-Your Age-\n",
      "-Your Profession-\n"
     ]
    }
   ],
   "source": [
    "listitem=[\"-Your Name-\", \"-Your Age-\", \"-Your Profession-\"]\n",
    "for i in listitem:\n",
    "    print(i)"
   ]
  },
  {
   "cell_type": "code",
   "execution_count": 45,
   "id": "c760a7a4-3dd9-4a7f-be2e-1efef5df837a",
   "metadata": {},
   "outputs": [
    {
     "name": "stdout",
     "output_type": "stream",
     "text": [
      "(1, 'Welcome', 2, 'Hope')\n"
     ]
    }
   ],
   "source": [
    "tup=(1, 'Welcome', 2, 'Hope') \n",
    "print(tup)"
   ]
  },
  {
   "cell_type": "code",
   "execution_count": 47,
   "id": "25047f6e-f7cb-4bb5-a264-0a6196bfa264",
   "metadata": {},
   "outputs": [
    {
     "name": "stdout",
     "output_type": "stream",
     "text": [
      "((0, 1, 2, 3), ('python', 'HOPE'))\n"
     ]
    }
   ],
   "source": [
    "Tuple1 = (0, 1, 2, 3)\n",
    "Tuple2 =  ('python', 'HOPE')\n",
    "Tuple3 = (Tuple1,Tuple2)\n",
    "print(Tuple3)"
   ]
  },
  {
   "cell_type": "code",
   "execution_count": 53,
   "id": "eac0c68d-1124-4ee3-bcf4-be5ac6f5eeb8",
   "metadata": {},
   "outputs": [
    {
     "name": "stdout",
     "output_type": "stream",
     "text": [
      "19 is a odd number\n",
      "25 is a odd number\n",
      "1 is a odd number\n"
     ]
    }
   ],
   "source": [
    "listitem=(20,10,16,19,25,1,276,188) \n",
    "for i in listitem:\n",
    "    if (i%2==1):\n",
    "        print(i,\"is a odd number\")\n",
    "    "
   ]
  },
  {
   "cell_type": "code",
   "execution_count": 55,
   "id": "eea34b8f-1b61-42be-96b7-1df9f3ec0bc7",
   "metadata": {},
   "outputs": [
    {
     "name": "stdout",
     "output_type": "stream",
     "text": [
      "20 is a even number\n",
      "10 is a even number\n",
      "16 is a even number\n",
      "276 is a even number\n",
      "188 is a even number\n"
     ]
    }
   ],
   "source": [
    "listitem=(20,10,16,19,25,1,276,188) \n",
    "for i in listitem:\n",
    "    if (i%2==0):\n",
    "        print(i,\"is a even number\")"
   ]
  },
  {
   "cell_type": "code",
   "execution_count": null,
   "id": "9f858377-e0d4-4796-acc0-c13ab8a7ae09",
   "metadata": {},
   "outputs": [],
   "source": []
  }
 ],
 "metadata": {
  "kernelspec": {
   "display_name": "Python [conda env:base] *",
   "language": "python",
   "name": "conda-base-py"
  },
  "language_info": {
   "codemirror_mode": {
    "name": "ipython",
    "version": 3
   },
   "file_extension": ".py",
   "mimetype": "text/x-python",
   "name": "python",
   "nbconvert_exporter": "python",
   "pygments_lexer": "ipython3",
   "version": "3.12.7"
  }
 },
 "nbformat": 4,
 "nbformat_minor": 5
}
